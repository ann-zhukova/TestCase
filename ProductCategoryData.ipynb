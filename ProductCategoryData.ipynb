{
  "nbformat": 4,
  "nbformat_minor": 0,
  "metadata": {
    "colab": {
      "provenance": []
    },
    "kernelspec": {
      "name": "python3",
      "display_name": "Python 3"
    },
    "language_info": {
      "name": "python"
    }
  },
  "cells": [
    {
      "cell_type": "markdown",
      "source": [
        "**Отношения:**\n",
        "\n",
        "\n",
        "*   продукты\n",
        "*   категории\n",
        "*   связи\n",
        "\n",
        "Каждому продукту может соответствовать **несколько категорий или ни одной**.\n",
        "\n",
        "А каждой категории может соответствовать **несколько продуктов или ни одного**."
      ],
      "metadata": {
        "id": "4rBxhmK6C8-z"
      }
    },
    {
      "cell_type": "code",
      "source": [
        "!pip install findspark\n",
        "!pip install pyspark"
      ],
      "metadata": {
        "colab": {
          "base_uri": "https://localhost:8080/"
        },
        "id": "aSpkAjDGD0yT",
        "outputId": "1edc2944-a306-4387-d76e-8769391c57d0"
      },
      "execution_count": 2,
      "outputs": [
        {
          "output_type": "stream",
          "name": "stdout",
          "text": [
            "Collecting findspark\n",
            "  Downloading findspark-2.0.1-py2.py3-none-any.whl (4.4 kB)\n",
            "Installing collected packages: findspark\n",
            "Successfully installed findspark-2.0.1\n",
            "Collecting pyspark\n",
            "  Downloading pyspark-3.5.1.tar.gz (317.0 MB)\n",
            "\u001b[2K     \u001b[90m━━━━━━━━━━━━━━━━━━━━━━━━━━━━━━━━━━━━━━━━\u001b[0m \u001b[32m317.0/317.0 MB\u001b[0m \u001b[31m3.7 MB/s\u001b[0m eta \u001b[36m0:00:00\u001b[0m\n",
            "\u001b[?25h  Preparing metadata (setup.py) ... \u001b[?25l\u001b[?25hdone\n",
            "Requirement already satisfied: py4j==0.10.9.7 in /usr/local/lib/python3.10/dist-packages (from pyspark) (0.10.9.7)\n",
            "Building wheels for collected packages: pyspark\n",
            "  Building wheel for pyspark (setup.py) ... \u001b[?25l\u001b[?25hdone\n",
            "  Created wheel for pyspark: filename=pyspark-3.5.1-py2.py3-none-any.whl size=317488491 sha256=c31e40a06b942d81fcc6344a6f802b22d7fd17dd6f4e861168e4b77f53492585\n",
            "  Stored in directory: /root/.cache/pip/wheels/80/1d/60/2c256ed38dddce2fdd93be545214a63e02fbd8d74fb0b7f3a6\n",
            "Successfully built pyspark\n",
            "Installing collected packages: pyspark\n",
            "Successfully installed pyspark-3.5.1\n"
          ]
        }
      ]
    },
    {
      "cell_type": "markdown",
      "source": [
        "Создаем DataFrame для заданных сущностей"
      ],
      "metadata": {
        "id": "cfpCAIFRdaxI"
      }
    },
    {
      "cell_type": "code",
      "execution_count": 7,
      "metadata": {
        "colab": {
          "base_uri": "https://localhost:8080/"
        },
        "id": "xekMsQ89CWYU",
        "outputId": "b6c0162b-0ac2-4f8d-8123-56d71b7ada12"
      },
      "outputs": [
        {
          "output_type": "stream",
          "name": "stdout",
          "text": [
            "+----------+--------------------+\n",
            "|product_id|        product_name|\n",
            "+----------+--------------------+\n",
            "|         1|    Microsoft Office|\n",
            "|         2|Kaspersky Anti-Virus|\n",
            "|         3|     Adobe Photoshop|\n",
            "|         4|          Windows 10|\n",
            "|         5|           ProCreate|\n",
            "+----------+--------------------+\n",
            "\n",
            "+-----------+--------------------+\n",
            "|category_id|       category_name|\n",
            "+-----------+--------------------+\n",
            "|          1|                  OS|\n",
            "|          2|  Antivirus Software|\n",
            "|          3|     Graphic Editors|\n",
            "|          4|Graphic Design So...|\n",
            "+-----------+--------------------+\n",
            "\n",
            "+----------+-----------+\n",
            "|product_id|category_id|\n",
            "+----------+-----------+\n",
            "|         2|          2|\n",
            "|         3|          3|\n",
            "|         5|          3|\n",
            "|         4|          1|\n",
            "|         3|          4|\n",
            "|         5|          4|\n",
            "+----------+-----------+\n",
            "\n"
          ]
        }
      ],
      "source": [
        "from pyspark.sql import SparkSession, Row\n",
        "\n",
        "# Создание сессии Spark\n",
        "spark = SparkSession.builder.appName(\"product\").getOrCreate()\n",
        "\n",
        "# DataFrame для продуктов\n",
        "product_data = [\n",
        "    Row(product_id=1, product_name='Microsoft Office'),\n",
        "    Row(product_id=2, product_name='Kaspersky Anti-Virus'),\n",
        "    Row(product_id=3, product_name='Adobe Photoshop'),\n",
        "    Row(product_id=4, product_name='Windows 10'),\n",
        "    Row(product_id = 5, product_name='ProCreate')\n",
        "]\n",
        "product_df = spark.createDataFrame(product_data)\n",
        "\n",
        "# DataFrame для категорий\n",
        "category_data = [\n",
        "    Row(category_id=1, category_name='OS'),\n",
        "    Row(category_id=2, category_name='Antivirus Software'),\n",
        "    Row(category_id=3, category_name='Graphic Editors'),\n",
        "    Row(category_id=4, category_name='Graphic Design Software')\n",
        "\n",
        "]\n",
        "category_df = spark.createDataFrame(category_data)\n",
        "\n",
        "# DataFrame для связей между продуктами и категориями\n",
        "product_category_data = [\n",
        "    Row(product_id=2, category_id=2),  # Kaspersky Anti-Virus: Antivirus Software\n",
        "    Row(product_id=3, category_id=3),  # Adobe Photoshop: Graphic Editors\n",
        "    Row(product_id=5, category_id=3),  # ProCreate: Graphic Editors\n",
        "    Row(product_id=4, category_id=1),  # Windows 10: OS\n",
        "    Row(product_id=3, category_id=4),  # Adobe Photoshop: Graphic Design Software\n",
        "    Row(product_id=5, category_id=4)   # ProCreate: Graphic Design Software\n",
        "]\n",
        "product_category_df = spark.createDataFrame(product_category_data)\n",
        "\n",
        "# Вывод DataFrame\n",
        "product_df.show()\n",
        "category_df.show()\n",
        "product_category_df.show()\n"
      ]
    },
    {
      "cell_type": "markdown",
      "source": [
        "Функция для выполнения запроса:\n",
        "\n",
        "метод на PySpark, который в одном датафрейме вернет все пары «Имя продукта – Имя категории» и имена всех продуктов, у которых нет категорий."
      ],
      "metadata": {
        "id": "pIm0GbOVdmtz"
      }
    },
    {
      "cell_type": "code",
      "source": [
        "def product_category(product_df, product_category_df, category_df):\n",
        "  product_category_pairs = product_df.join(product_category_df, 'product_id', how='left') \\\n",
        "    .join(category_df, 'category_id', how='left') \\\n",
        "    .select('product_name', 'category_name')\n",
        "  return product_category_pairs"
      ],
      "metadata": {
        "id": "84j29rgeUFPs"
      },
      "execution_count": 8,
      "outputs": []
    },
    {
      "cell_type": "code",
      "source": [
        "product_category_pairs = product_category(product_df, product_category_df, category_df)\n",
        "product_category_pairs.show()"
      ],
      "metadata": {
        "colab": {
          "base_uri": "https://localhost:8080/"
        },
        "id": "oEPCYDcyUdrB",
        "outputId": "1ce3b9f1-a9bb-4cb3-d98f-cc7db948958b"
      },
      "execution_count": 9,
      "outputs": [
        {
          "output_type": "stream",
          "name": "stdout",
          "text": [
            "+--------------------+--------------------+\n",
            "|        product_name|       category_name|\n",
            "+--------------------+--------------------+\n",
            "|    Microsoft Office|                NULL|\n",
            "|          Windows 10|                  OS|\n",
            "|           ProCreate|     Graphic Editors|\n",
            "|     Adobe Photoshop|     Graphic Editors|\n",
            "|Kaspersky Anti-Virus|  Antivirus Software|\n",
            "|           ProCreate|Graphic Design So...|\n",
            "|     Adobe Photoshop|Graphic Design So...|\n",
            "+--------------------+--------------------+\n",
            "\n"
          ]
        }
      ]
    },
    {
      "cell_type": "code",
      "source": [
        "spark.stop()"
      ],
      "metadata": {
        "id": "akXflWwvElxA"
      },
      "execution_count": 10,
      "outputs": []
    }
  ]
}